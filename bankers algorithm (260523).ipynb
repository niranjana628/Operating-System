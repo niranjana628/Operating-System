{
 "cells": [
  {
   "cell_type": "code",
   "execution_count": 1,
   "id": "114cb99e",
   "metadata": {},
   "outputs": [
    {
     "name": "stdout",
     "output_type": "stream",
     "text": [
      "Following is the SAFE Sequence\n",
      " P1 -> P3 -> P4 -> P0 -> P2\n"
     ]
    }
   ],
   "source": [
    "if __name__==\"__main__\":\n",
    "\n",
    "\t# P0, P1, P2, P3, P4 are the Process names here\n",
    "\tn = 5 # Number of processes\n",
    "\tm = 3 # Number of resources\n",
    "\t\n",
    "\t# Allocation Matrix\n",
    "\talloc = [[0, 1, 0 ],[ 2, 0, 0 ],\n",
    "\t\t\t[3, 0, 2 ],[2, 1, 1] ,[ 0, 0, 2]]\n",
    "\t\n",
    "\t# MAX Matrix\n",
    "\tmax = [[7, 5, 3 ],[3, 2, 2 ],\n",
    "\t\t\t[ 9, 0, 2 ],[2, 2, 2],[4, 3, 3]]\n",
    "\t\n",
    "\tavail = [3, 3, 2] # Available Resources\n",
    "\t\n",
    "\tf = [0]*n\n",
    "\tans = [0]*n\n",
    "\tind = 0\n",
    "\tfor k in range(n):\n",
    "\t\tf[k] = 0\n",
    "\t\t\n",
    "\tneed = [[ 0 for i in range(m)]for i in range(n)]\n",
    "\tfor i in range(n):\n",
    "\t\tfor j in range(m):\n",
    "\t\t\tneed[i][j] = max[i][j] - alloc[i][j]\n",
    "\ty = 0\n",
    "\tfor k in range(5):\n",
    "\t\tfor i in range(n):\n",
    "\t\t\tif (f[i] == 0):\n",
    "\t\t\t\tflag = 0\n",
    "\t\t\t\tfor j in range(m):\n",
    "\t\t\t\t\tif (need[i][j] > avail[j]):\n",
    "\t\t\t\t\t\tflag = 1\n",
    "\t\t\t\t\t\tbreak\n",
    "\t\t\t\t\n",
    "\t\t\t\tif (flag == 0):\n",
    "\t\t\t\t\tans[ind] = i\n",
    "\t\t\t\t\tind += 1\n",
    "\t\t\t\t\tfor y in range(m):\n",
    "\t\t\t\t\t\tavail[y] += alloc[i][y]\n",
    "\t\t\t\t\tf[i] = 1\n",
    "\t\t\t\t\t\n",
    "\tprint(\"Following is the SAFE Sequence\")\n",
    "\t\n",
    "\tfor i in range(n - 1):\n",
    "\t\tprint(\" P\", ans[i], \" ->\", sep=\"\", end=\"\")\n",
    "\tprint(\" P\", ans[n - 1], sep=\"\")\n"
   ]
  },
  {
   "cell_type": "code",
   "execution_count": null,
   "id": "76a323db",
   "metadata": {},
   "outputs": [],
   "source": []
  }
 ],
 "metadata": {
  "kernelspec": {
   "display_name": "Python 3 (ipykernel)",
   "language": "python",
   "name": "python3"
  },
  "language_info": {
   "codemirror_mode": {
    "name": "ipython",
    "version": 3
   },
   "file_extension": ".py",
   "mimetype": "text/x-python",
   "name": "python",
   "nbconvert_exporter": "python",
   "pygments_lexer": "ipython3",
   "version": "3.9.12"
  }
 },
 "nbformat": 4,
 "nbformat_minor": 5
}
