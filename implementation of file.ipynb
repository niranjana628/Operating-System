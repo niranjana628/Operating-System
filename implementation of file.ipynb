{
 "cells": [
  {
   "cell_type": "code",
   "execution_count": 3,
   "id": "eeb195f6",
   "metadata": {},
   "outputs": [],
   "source": [
    "#opening a file and writing its content to another\n",
    "with open('first.txt','r') as firstfile, open('second.txt','a') as secondfile:\n",
    "\t\n",
    "\t# read content from first file\n",
    "\tfor line in firstfile:\n",
    "\t\t\t\n",
    "\t\t\t# append content to second file\n",
    "\t\t\tsecondfile.write(line)\n"
   ]
  },
  {
   "cell_type": "code",
   "execution_count": 5,
   "id": "332cb036",
   "metadata": {},
   "outputs": [
    {
     "name": "stdout",
     "output_type": "stream",
     "text": [
      "Number of words in text file : 7\n"
     ]
    }
   ],
   "source": [
    "#counting number of words\n",
    "file = open(\"data.txt\", \"rt\")\n",
    "data = file.read()\n",
    "words = data.split()\n",
    "\n",
    "print('Number of words in text file :', len(words))\n"
   ]
  },
  {
   "cell_type": "code",
   "execution_count": 6,
   "id": "abba620e",
   "metadata": {},
   "outputs": [
    {
     "name": "stdout",
     "output_type": "stream",
     "text": [
      "This is the first line\n",
      "This is the second line\n",
      "This is the third line\n"
     ]
    }
   ],
   "source": [
    "#Program to Write a Sentence to a File\n",
    "  \n",
    "# Open the file for writing\n",
    "with open('file.txt', 'w') as f:\n",
    "\t# Define the data to be written\n",
    "\tdata = ['This is the first line', 'This is the second line', 'This is the third line']\n",
    "\t# Use a for loop to write each line of data to the file\n",
    "\tfor line in data:\n",
    "\t\tf.write(line + '\\n')\n",
    "\t\t# Optionally, print the data as it is written to the file\n",
    "\t\tprint(line)\n"
   ]
  },
  {
   "cell_type": "code",
   "execution_count": null,
   "id": "70063f46",
   "metadata": {},
   "outputs": [],
   "source": []
  }
 ],
 "metadata": {
  "kernelspec": {
   "display_name": "Python 3 (ipykernel)",
   "language": "python",
   "name": "python3"
  },
  "language_info": {
   "codemirror_mode": {
    "name": "ipython",
    "version": 3
   },
   "file_extension": ".py",
   "mimetype": "text/x-python",
   "name": "python",
   "nbconvert_exporter": "python",
   "pygments_lexer": "ipython3",
   "version": "3.9.12"
  }
 },
 "nbformat": 4,
 "nbformat_minor": 5
}
