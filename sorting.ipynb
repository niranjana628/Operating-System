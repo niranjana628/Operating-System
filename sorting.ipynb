{
 "cells": [
  {
   "cell_type": "code",
   "execution_count": 2,
   "id": "3c0b6431",
   "metadata": {},
   "outputs": [
    {
     "name": "stdout",
     "output_type": "stream",
     "text": [
      "enter the total number of elements4\n",
      "enter number=78\n",
      "enter number=324\n",
      "enter number=87\n",
      "enter number=65\n",
      "\n",
      "\n",
      "before sorting=\n",
      "78.0,324.0,87.0,65.0,\n",
      "\n",
      "sorted numbers=\n",
      "65.0,78.0,87.0,324.0,"
     ]
    }
   ],
   "source": [
    "def st(lt):\n",
    "    for i in range(len(lt)):\n",
    "        for j in range(i+1,len(lt)):\n",
    "\n",
    "                if lt[i]>lt[j]:\n",
    "                    temp=lt[i]\n",
    "                    lt[i]=lt[j]\n",
    "                    lt[j]=temp\n",
    "            \n",
    "    return lt\n",
    "\n",
    "n=int(input('enter the total number of elements'))\n",
    "l=[]\n",
    "for j in range(n):\n",
    "    ele=float(input('enter number='))\n",
    "    l.append(ele)\n",
    "    \n",
    "print('\\n\\nbefore sorting=')\n",
    "for m in range(len(l)):\n",
    "    print(l[m],end=',')\n",
    "lt1=st(l)\n",
    "print('\\n\\nsorted numbers=')\n",
    "for x in range(len(lt1)):\n",
    "    print(lt1[x],end=',')"
   ]
  },
  {
   "cell_type": "code",
   "execution_count": null,
   "id": "bef1d871",
   "metadata": {},
   "outputs": [],
   "source": []
  }
 ],
 "metadata": {
  "kernelspec": {
   "display_name": "Python 3 (ipykernel)",
   "language": "python",
   "name": "python3"
  },
  "language_info": {
   "codemirror_mode": {
    "name": "ipython",
    "version": 3
   },
   "file_extension": ".py",
   "mimetype": "text/x-python",
   "name": "python",
   "nbconvert_exporter": "python",
   "pygments_lexer": "ipython3",
   "version": "3.9.12"
  }
 },
 "nbformat": 4,
 "nbformat_minor": 5
}
